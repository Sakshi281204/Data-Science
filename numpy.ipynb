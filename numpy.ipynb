{
  "cells": [
    {
      "cell_type": "markdown",
      "metadata": {
        "id": "view-in-github",
        "colab_type": "text"
      },
      "source": [
        "<a href=\"https://colab.research.google.com/github/Sakshi281204/Data-Science/blob/main/numpy.ipynb\" target=\"_parent\"><img src=\"https://colab.research.google.com/assets/colab-badge.svg\" alt=\"Open In Colab\"/></a>"
      ]
    },
    {
      "cell_type": "markdown",
      "metadata": {
        "id": "GSLiNRfsGlws"
      },
      "source": [
        "12-06-2025 Numpy"
      ]
    },
    {
      "cell_type": "code",
      "execution_count": null,
      "metadata": {
        "colab": {
          "base_uri": "https://localhost:8080/"
        },
        "id": "OqfwEax_GhHq",
        "outputId": "485c3f97-0a24-4828-8100-10cd01804ed3"
      },
      "outputs": [
        {
          "name": "stdout",
          "output_type": "stream",
          "text": [
            "[0 0 0 0 0 0]\n",
            "[0.77980902 0.7896624  0.92967142 0.30791755]\n"
          ]
        }
      ],
      "source": [
        "import numpy as np\n",
        "a=np.zeros(6, dtype=int)\n",
        "print(a)\n",
        "# a=[[1 for j in range(3)]for i in range(3)]\n",
        "# print(a)\n",
        "# a=np.ones(9,dtype=int)\n",
        "# print(a)\n",
        "a=np.random.random(4)\n",
        "print(a)"
      ]
    },
    {
      "cell_type": "markdown",
      "metadata": {
        "id": "qxrZGmRz6laX"
      },
      "source": [
        "13-06-2025"
      ]
    },
    {
      "cell_type": "code",
      "execution_count": null,
      "metadata": {
        "colab": {
          "base_uri": "https://localhost:8080/"
        },
        "id": "e_MD_yQW6k50",
        "outputId": "03dd703b-fbf9-40c8-f6db-bb3a232f9429"
      },
      "outputs": [
        {
          "name": "stdout",
          "output_type": "stream",
          "text": [
            "[0 1 2 3 4 5 6 7 8 9]\n",
            "[0 1]\n",
            "[3 3 3 3 3]\n",
            "[[1.021 1.021]\n",
            " [1.021 1.021]\n",
            " [1.021 1.021]]\n"
          ]
        }
      ],
      "source": [
        "import numpy as np\n",
        "var=np.arange(0,10)\n",
        "print(var)\n",
        "a=np.random.randint((3,3))\n",
        "print(a)\n",
        "b=np.full(5,3)\n",
        "print(b)\n",
        "c=np.full((3,2),1.021)\n",
        "print(c)"
      ]
    },
    {
      "cell_type": "code",
      "execution_count": null,
      "metadata": {
        "colab": {
          "base_uri": "https://localhost:8080/"
        },
        "id": "2B4f-8299BoC",
        "outputId": "e4ab61ad-cddf-4f55-8cbb-b0a0819267ae"
      },
      "outputs": [
        {
          "name": "stdout",
          "output_type": "stream",
          "text": [
            "int64\n",
            "[['8' '8' '8' '8' '8']\n",
            " ['8' '8' '8' '8' '8']\n",
            " ['8' '8' '8' '8' '8']]\n",
            "[[9 9 9 9 9]\n",
            " [9 9 9 9 9]\n",
            " [9 9 9 9 9]]\n",
            "[[16 16 16 16 16]\n",
            " [16 16 16 16 16]\n",
            " [16 16 16 16 16]]\n",
            "[[4. 4. 4. 4. 4.]\n",
            " [4. 4. 4. 4. 4.]\n",
            " [4. 4. 4. 4. 4.]]\n",
            "[[24 24 24 24 24]\n",
            " [24 24 24 24 24]\n",
            " [24 24 24 24 24]]\n",
            "[[8 8 8 8 8]\n",
            " [8 8 8 8 8]\n",
            " [8 8 8 8 8]]\n",
            "[[5 9 1 1 7]\n",
            " [7 3 1 5 2]\n",
            " [5 2 6 6 2]]\n"
          ]
        }
      ],
      "source": [
        "# a=np.random.randint(0,10,(3,3))\n",
        "# print(a)\n",
        "# var=np.arange(0,20,3)\n",
        "# print(var)\n",
        "# a=np.eye(3)\n",
        "# print(a)\n",
        "# a=np.random.randint(0,10,(3,5))\n",
        "# print(a)\n",
        "# a=np.random.random((3,5))\n",
        "# print(a)\n",
        "data=np.full((3,5),8)\n",
        "print(data.dtype)\n",
        "print(data.astype(np.str_))\n",
        "print(data+1)\n",
        "print(data*2)\n",
        "print(data/2)\n",
        "print(data+data+data)\n",
        "print(data)\n",
        "data=np.random.randint(0,10,(3,5))\n",
        "print(data)"
      ]
    },
    {
      "cell_type": "markdown",
      "metadata": {
        "id": "20tg4TVfGM6F"
      },
      "source": [
        "## **Indexing** **Numpy**"
      ]
    },
    {
      "cell_type": "code",
      "execution_count": null,
      "metadata": {
        "colab": {
          "base_uri": "https://localhost:8080/"
        },
        "id": "6lezIr-BGMCW",
        "outputId": "2ebe077c-0ce3-46ec-adb7-f864074330cc"
      },
      "outputs": [
        {
          "name": "stdout",
          "output_type": "stream",
          "text": [
            "[[1 9 2 5 8]\n",
            " [0 6 3 0 5]\n",
            " [7 9 0 7 7]]\n",
            "7\n",
            "7\n"
          ]
        }
      ],
      "source": [
        "data=np.random.randint(0,10,(3,5))\n",
        "print(data)\n",
        "print(data[2][3])\n",
        "print(data[2,3])"
      ]
    },
    {
      "cell_type": "markdown",
      "metadata": {
        "id": "zQFXy6JRGUEu"
      },
      "source": [
        "# **Slicing Numpy**"
      ]
    },
    {
      "cell_type": "code",
      "execution_count": null,
      "metadata": {
        "colab": {
          "base_uri": "https://localhost:8080/"
        },
        "id": "BlrJ-EyZH7CP",
        "outputId": "3e977a39-e0ce-4f46-a95e-e3cafc4a8ad3"
      },
      "outputs": [
        {
          "name": "stdout",
          "output_type": "stream",
          "text": [
            "(9,)\n",
            "[[0 1 2]\n",
            " [3 4 5]\n",
            " [6 7 8]]\n",
            "[[0 2]\n",
            " [3 5]\n",
            " [6 8]]\n",
            "[[0 2]\n",
            " [3 5]\n",
            " [6 8]]\n"
          ]
        }
      ],
      "source": [
        "# data=np.random.randint(0,10,(3,5))\n",
        "# print(data)\n",
        "# data=[[1,2,3],[7,8,9],[4,5,6]]\n",
        "# print(data[1,0:2])\n",
        "# print(data[1][0:2])\n",
        "data=np.arange(0,9)\n",
        "print(data.shape)\n",
        "print(data.reshape(3,3))\n",
        "data=data.reshape(3,3)\n",
        "#print(data)\n",
        "# print(data[1,0:2])\n",
        "# print(data[1][0:2])\n",
        "# print(data[1: ,2])\n",
        "#print(data[0:,[0,2]])\n",
        "print(data[0:,0:3:2])\n",
        "print(data[:,::2])"
      ]
    },
    {
      "cell_type": "markdown",
      "metadata": {
        "id": "hLIF4RyDbxV5"
      },
      "source": [
        "# **16/06/2025**"
      ]
    },
    {
      "cell_type": "code",
      "execution_count": null,
      "metadata": {
        "colab": {
          "base_uri": "https://localhost:8080/"
        },
        "id": "sXUpS9bebw6J",
        "outputId": "67fc850b-a705-4ffe-d52d-991e64d628c2"
      },
      "outputs": [
        {
          "name": "stdout",
          "output_type": "stream",
          "text": [
            "[[ 0  1  2  3  4]\n",
            " [ 5  6  7  8  9]\n",
            " [10 11 12 13 14]]\n",
            "[array([[ 0,  2],\n",
            "       [10, 12]])]\n"
          ]
        }
      ],
      "source": [
        "import numpy as np\n",
        "a=np.arange(0,15)\n",
        "#print(a[0:5:2])\n",
        "#print(a[::-1])\n",
        "print(a.reshape(3,5))\n",
        "a=a.reshape(3,5)\n",
        "#print(a)\n",
        "# print(a[0:5:2])\n",
        "# print(a[0:3:2])\n",
        "print([a[0:3:2,:3:2]])\n"
      ]
    },
    {
      "cell_type": "code",
      "execution_count": null,
      "metadata": {
        "colab": {
          "base_uri": "https://localhost:8080/"
        },
        "id": "kYVPU0SckIX_",
        "outputId": "828a5451-a824-4cd9-fd07-6224c4606756"
      },
      "outputs": [
        {
          "name": "stdout",
          "output_type": "stream",
          "text": [
            "[[0 1 2]\n",
            " [3 4 5]\n",
            " [6 7 8]]\n",
            "[[4]\n",
            " [7]]\n",
            "[[0 2]\n",
            " [6 8]]\n",
            "0 8\n",
            "[0 8]\n",
            "[8 0]\n"
          ]
        }
      ],
      "source": [
        "\n",
        "data=np.arange(0,9)\n",
        "#print(data)\n",
        "data=data.reshape(3,3)\n",
        "print(data)\n",
        "print(data[1:3,1:2])\n",
        "print(data[: :2 ,: :2])\n",
        "print(data[[0,0],[2,2]]) #first brackect indicates row and column and second indicates its position 0 row 2nd position =0  2nd row 2nd position =8\n",
        "print(data[[0,2],[0,2]])#first brackect indicates row and column and second indicates its position 0 row 2nd position =[0,8] 0th row 2nd position =8\n",
        "print(data[[2,0],[2,0]])#first brackect indicates row and column and second indicates its position 2nd  row 0th position =8 2nd row 0th position =0"
      ]
    },
    {
      "cell_type": "code",
      "execution_count": null,
      "metadata": {
        "colab": {
          "base_uri": "https://localhost:8080/"
        },
        "id": "kEsECZPwsoVQ",
        "outputId": "47860c28-8f8c-4f1d-db28-6e3bdca4d381"
      },
      "outputs": [
        {
          "name": "stdout",
          "output_type": "stream",
          "text": [
            "[[ 0  1  2  3  4]\n",
            " [ 5  6  7  8  9]\n",
            " [10 11 12 13 14]]\n",
            "[[ 8  9]\n",
            " [13 14]]\n",
            "[[91  9]\n",
            " [13 14]]\n",
            "[[ 0  1  2  3  4]\n",
            " [ 5  6  7  8  9]\n",
            " [10 11 12 13 14]]\n"
          ]
        }
      ],
      "source": [
        "import numpy as np\n",
        "a=np.arange(0,15)\n",
        "print(a.reshape(3,5))\n",
        "a=a.reshape(3,5)\n",
        "a_subset=a[1:,3:].copy()\n",
        "print(a_subset)\n",
        "a_subset[0,0]=91\n",
        "print(a_subset)\n",
        "print(a)"
      ]
    },
    {
      "cell_type": "code",
      "execution_count": null,
      "metadata": {
        "colab": {
          "base_uri": "https://localhost:8080/"
        },
        "id": "ct1OfE1Uv6RU",
        "outputId": "07e73799-71eb-4c0a-fa1e-0eacda345675"
      },
      "outputs": [
        {
          "name": "stdout",
          "output_type": "stream",
          "text": [
            "[[0 0 0]\n",
            " [0 1 2]\n",
            " [0 2 4]]\n",
            "(1, 3)\n",
            "(3, 1)\n"
          ]
        }
      ],
      "source": [
        "a=np.arange(0,4)\n",
        "a1=a[np.newaxis,:3]\n",
        "a2=a[:3,np.newaxis]\n",
        "print(a1*a2)\n",
        "print(np.shape(a1))\n",
        "print(np.shape(a2))\n"
      ]
    },
    {
      "cell_type": "markdown",
      "metadata": {
        "id": "euH9_9wqC96k"
      },
      "source": [
        "# **17/06/2025**"
      ]
    },
    {
      "cell_type": "code",
      "execution_count": null,
      "metadata": {
        "colab": {
          "base_uri": "https://localhost:8080/"
        },
        "id": "isiTO3VZC5Q6",
        "outputId": "3cd61315-7227-4b3e-849b-e28faac231d2"
      },
      "outputs": [
        {
          "name": "stdout",
          "output_type": "stream",
          "text": [
            "[[0 1 2]\n",
            " [3 4 5]\n",
            " [6 7 8]]\n",
            "[[1]\n",
            " [4]]\n",
            "[1 4]\n",
            "[[4 5]]\n",
            "[4 5]\n",
            "[[[0 1 2]]\n",
            "\n",
            " [[3 4 5]]\n",
            "\n",
            " [[6 7 8]]]\n"
          ]
        }
      ],
      "source": [
        "import numpy as np\n",
        "a= np.arange(0,9)\n",
        "a=a.reshape(3,3)\n",
        "print(a)\n",
        "#print(a[:2,:2])\n",
        "#print(a[:2,1:])\n",
        "print(a[:2,1:2])\n",
        "print(a[:2,1])\n",
        "print(a[1:2,1:])\n",
        "print(a[1,1:])\n",
        "a2=a[:,np.newaxis]\n",
        "print(a2)"
      ]
    },
    {
      "cell_type": "code",
      "execution_count": null,
      "metadata": {
        "colab": {
          "base_uri": "https://localhost:8080/"
        },
        "id": "UoBkbrr2skAQ",
        "outputId": "85019087-347b-431b-b842-81893fd4f710"
      },
      "outputs": [
        {
          "name": "stdout",
          "output_type": "stream",
          "text": [
            "[[0 0 0]\n",
            " [0 0 0]\n",
            " [0 0 0]]\n",
            "[[1 1 1]\n",
            " [1 1 1]\n",
            " [1 1 1]]\n",
            "[[1 1 1]\n",
            " [1 1 1]\n",
            " [1 1 1]]\n",
            "[[1 1 1]\n",
            " [1 1 1]\n",
            " [1 1 1]]\n",
            "[[2 2 2]\n",
            " [2 2 2]\n",
            " [2 2 2]]\n",
            "[[8 8 8]\n",
            " [8 8 8]\n",
            " [8 8 8]]\n"
          ]
        }
      ],
      "source": [
        "import numpy as np\n",
        "a=np.zeros([3,3],dtype=int)\n",
        "print(a)\n",
        "a=a+1\n",
        "print(a)\n",
        "print(a)\n",
        "a=a*a\n",
        "print(a)\n",
        "a=a+a\n",
        "print(a)\n",
        "a=a**3\n",
        "print(a)"
      ]
    },
    {
      "cell_type": "code",
      "execution_count": null,
      "metadata": {
        "colab": {
          "base_uri": "https://localhost:8080/"
        },
        "id": "dwojDfssulpC",
        "outputId": "35236484-8258-4726-b2f9-c08798121b42"
      },
      "outputs": [
        {
          "name": "stdout",
          "output_type": "stream",
          "text": [
            "[ 0.  2.  4.  6.  8. 10.]\n",
            "114.59155902616465\n"
          ]
        }
      ],
      "source": [
        "import numpy as np\n",
        "# a=np.sin(a)\n",
        "# print(a)\n",
        "a=np.linspace(0,10,6)\n",
        "print(a)\n",
        "a=np.sin(a)\n",
        "a=np.degrees(a)\n",
        "print(a)"
      ]
    },
    {
      "cell_type": "code",
      "execution_count": null,
      "metadata": {
        "colab": {
          "base_uri": "https://localhost:8080/"
        },
        "id": "Ul0qfCeGxh6J",
        "outputId": "124d39cf-9891-4571-817f-3ae95f59e2bf"
      },
      "outputs": [
        {
          "name": "stdout",
          "output_type": "stream",
          "text": [
            "[ 0.         -0.98803162  0.85090352 -0.30481062  0.89399666]\n",
            "[0.         0.5        0.70710678 0.8660254  1.        ]\n"
          ]
        }
      ],
      "source": [
        "import numpy as np\n",
        "a=np.array([0,30,45,60,90])\n",
        "print(np.sin(a))\n",
        "a_rad=np.deg2rad(a)\n",
        "a=np.sin(a_rad)\n",
        "print(a)"
      ]
    },
    {
      "cell_type": "markdown",
      "metadata": {
        "id": "GSD5sgcITjpN"
      },
      "source": [
        "# **18/06/2025**"
      ]
    },
    {
      "cell_type": "code",
      "execution_count": null,
      "metadata": {
        "colab": {
          "base_uri": "https://localhost:8080/"
        },
        "id": "XKL6Pj13TnPZ",
        "outputId": "be176956-8672-45c2-feb9-a91b772a63a3"
      },
      "outputs": [
        {
          "name": "stdout",
          "output_type": "stream",
          "text": [
            "5079\n",
            "50.79\n",
            "0\n",
            "28.81364086678391\n",
            "830.2258999999999\n"
          ]
        }
      ],
      "source": [
        "import numpy as np\n",
        "rng=np.random.default_rng(seed=1407)\n",
        "a=rng.integers(1,100,(1,100))\n",
        "#print(a)\n",
        "# a=rng.random(100)\n",
        "# print(a)\n",
        "# a=rng.integers(1,100)\n",
        "# print(a)\n",
        "print(np.sum(a))\n",
        "print(np.mean(a))\n",
        "print(np.prod(a))\n",
        "print(np.std(a))\n",
        "print(np.var(a))\n",
        "# print(np.min(a))\n",
        "# print(np.max(a))\n",
        "# print(np.argmin(a))\n",
        "# print(np.argmax(a))\n",
        "# print(np.median(a))\n",
        "# print(np.percentile(a,50))\n",
        "# print(np.any(a))\n",
        "# print(np.all(a))"
      ]
    },
    {
      "cell_type": "code",
      "execution_count": null,
      "metadata": {
        "colab": {
          "base_uri": "https://localhost:8080/"
        },
        "id": "r5q5jPErxva9",
        "outputId": "f70ea2d4-83cd-4269-a5a8-50eb6613325a"
      },
      "outputs": [
        {
          "name": "stdout",
          "output_type": "stream",
          "text": [
            "174.75\n",
            "182.0\n",
            "183.5\n",
            "[182 180 191 192 165 189 190 173 167 187 187 164 184 178 178 192 183 177\n",
            " 171 187 176 168 190 181 175 165 164 185 190 181 175 179 167 189 179 181\n",
            " 183 175 190 174 178 168 180 185]\n",
            "174.75\n",
            "180.0\n",
            "187.0\n"
          ]
        }
      ],
      "source": [
        "import numpy as np\n",
        "a=np.array([189,170, 189, 163, 183, 171,185, 168, 173,183,173, 173, 175, 178, 183, 193, 178, 173,\n",
        " 174,183, 183, 168, 170, 178, 182, 180, 183, 178, 182, 188, 175, 179, 183, 193, 182, 183,\n",
        " 177, 185, 188, 188, 182,185,191,182])\n",
        "min_val = np.min(a)\n",
        "max_val = np.max(a)\n",
        "size = a.size\n",
        "# print(min_val)\n",
        "# print(max_val)\n",
        "# print(size)\n",
        "# print(np.mean(a))\n",
        "# print(np.std(a))\n",
        "# print(np.var(a))\n",
        "print(np.percentile(a,25))\n",
        "print(np.percentile(a,50))\n",
        "print(np.percentile(a,75))\n",
        "rng = np.random.default_rng(seed=1407)\n",
        "array=rng.integers(min_val, max_val, size=size)\n",
        "print(array)\n",
        "# print(np.min(array))\n",
        "\n",
        "# print(np.max(array))\n",
        "# print(array.size)\n",
        "# print(np.mean(array))\n",
        "# print(np.std(array))\n",
        "# print(np.var(array))\n",
        "print(np.percentile(array,25))\n",
        "print(np.percentile(array,50))\n",
        "print(np.percentile(array,75))"
      ]
    },
    {
      "cell_type": "markdown",
      "metadata": {
        "id": "MH_nXkh7DQ0L"
      },
      "source": [
        "# 20/06/2025"
      ]
    },
    {
      "cell_type": "code",
      "execution_count": null,
      "metadata": {
        "colab": {
          "base_uri": "https://localhost:8080/"
        },
        "id": "pWHwEoPgDUuu",
        "outputId": "d7e8cba2-3e52-4470-ecf6-7cb8c00a6962"
      },
      "outputs": [
        {
          "name": "stdout",
          "output_type": "stream",
          "text": [
            "[7 0 3 2 1 9 4 3 6]\n",
            "[7 9 6]\n",
            "[False False  True False False False False  True False]\n",
            "[7 3 2 9 4 3 6]\n"
          ]
        }
      ],
      "source": [
        "import numpy as np\n",
        "a=np.array([7,0,3,2,1,9,4,3,6])\n",
        "#a=np.array([7,0,3])\n",
        "print(a)\n",
        "print(a[a>4])\n",
        "\n",
        "# a==3\n",
        "# a<=3\n",
        "print((a*2==a+3))\n",
        "#print(a[np.array([True,False,True])])\n",
        "print(a[a>1])\n"
      ]
    },
    {
      "cell_type": "code",
      "execution_count": null,
      "metadata": {
        "colab": {
          "base_uri": "https://localhost:8080/"
        },
        "id": "aTAqvdLVHU4U",
        "outputId": "44b7a900-57ae-49ac-d04a-a5fc0aca06f6"
      },
      "outputs": [
        {
          "name": "stdout",
          "output_type": "stream",
          "text": [
            "[7 9 6]\n"
          ]
        }
      ],
      "source": [
        "import numpy as np\n",
        "\n",
        "a = np.array([7, 0, 3, 2, 1, 9, 4, 3, 6])\n",
        "if np.any(a > 4):\n",
        "    print(a[a > 4])\n",
        "else:\n",
        "    print(0)"
      ]
    },
    {
      "cell_type": "code",
      "execution_count": null,
      "metadata": {
        "colab": {
          "base_uri": "https://localhost:8080/"
        },
        "id": "G7p1kuSrJlSJ",
        "outputId": "a92839e7-b861-409e-9d87-0b6ae3ce9146"
      },
      "outputs": [
        {
          "name": "stdout",
          "output_type": "stream",
          "text": [
            "[7 0 0 0 0 9 0 0 6]\n",
            "[7 0 0 0 0 9 0 0 6]\n"
          ]
        }
      ],
      "source": [
        "import numpy as np\n",
        "a = np.array([7, 0, 3, 2, 1, 9, 4, 3, 6])\n",
        "print(np.where(a<=4,0,a)) #zero shows true, and a indicates false if true then print0if false then print a\n",
        "print(np.where(a>4,a,0))"
      ]
    },
    {
      "cell_type": "code",
      "execution_count": null,
      "metadata": {
        "colab": {
          "base_uri": "https://localhost:8080/"
        },
        "id": "M3Jk_v2ONvkF",
        "outputId": "276b770d-4bdb-49f5-f1b5-9834e4da93b0"
      },
      "outputs": [
        {
          "data": {
            "text/plain": [
              "array([7, 6])"
            ]
          },
          "execution_count": 46,
          "metadata": {},
          "output_type": "execute_result"
        }
      ],
      "source": [
        "import numpy as np\n",
        "a = np.array([7, 0, 3, 2, 1, 9, 4, 3, 6])\n",
        "ml=(a>4)&(a<8)\n",
        "a[ml]"
      ]
    },
    {
      "cell_type": "code",
      "execution_count": null,
      "metadata": {
        "colab": {
          "base_uri": "https://localhost:8080/"
        },
        "id": "Q5UzYM2XRWLc",
        "outputId": "423d1063-86ef-4e50-cd0c-3162460ace40"
      },
      "outputs": [
        {
          "name": "stdout",
          "output_type": "stream",
          "text": [
            "[[Timestamp('2012-01-01 00:00:00') 0.0 12.8 5.0 4.7 'drizzle']\n",
            " [Timestamp('2012-01-02 00:00:00') 10.9 10.6 2.8 4.5 'rain']\n",
            " [Timestamp('2012-01-03 00:00:00') 0.8 11.7 7.2 2.3 'rain']\n",
            " ...\n",
            " [Timestamp('2015-12-29 00:00:00') 0.0 7.2 0.6 2.6 'fog']\n",
            " [Timestamp('2015-12-30 00:00:00') 0.0 5.6 -1.0 3.4 'sun']\n",
            " [Timestamp('2015-12-31 00:00:00') 0.0 5.6 -2.1 3.5 'sun']]\n",
            "55.9\n",
            "0.0\n",
            "Dry Wheather 0.0\n",
            "Medium Wheather 0.0\n",
            "Heavy Wheather 2.8\n",
            "[0.0 10.9 0.8 ... 0.0 0.0 0.0]\n",
            "(1461,)\n",
            "[Timestamp('2012-01-01 00:00:00') Timestamp('2012-01-02 00:00:00')\n",
            " Timestamp('2012-01-03 00:00:00') ... Timestamp('2015-12-29 00:00:00')\n",
            " Timestamp('2015-12-30 00:00:00') Timestamp('2015-12-31 00:00:00')]\n",
            "[['drizzle']\n",
            " ['rain']\n",
            " ['rain']\n",
            " ...\n",
            " ['fog']\n",
            " ['sun']\n",
            " ['sun']]\n",
            "123\n",
            "1.9\n",
            "3.2399999999999993\n",
            "13.5\n"
          ]
        }
      ],
      "source": [
        "import numpy as np\n",
        "from vega_datasets import data\n",
        "data1= np.array(\n",
        "data.seattle_weather())\n",
        "print(data1)\n",
        "precipi=data1[:,1]\n",
        "date=data1[:,0]\n",
        "wheather=data1[0:,5:]\n",
        "maximum_temp=data1[:,1]\n",
        "print(np.max(maximum_temp))\n",
        "mimimum_temp=data1[0:,1]\n",
        "print(np.min(mimimum_temp))\n",
        "low=np.percentile(precipi,25)\n",
        "medium=np.percentile(precipi,50)\n",
        "high=np.percentile(precipi,75)\n",
        "print(\"Dry Wheather\",low)\n",
        "print(\"Medium Wheather\",medium)\n",
        "print(\"Heavy Wheather\",high)\n",
        "print(precipi)\n",
        "print(precipi.shape)\n",
        "print(date)\n",
        "print(wheather)\n",
        "a=precipi[:100]\n",
        "print(len(precipi[precipi>12]))\n",
        "low=np.percentile(a,50)\n",
        "medium=np.percentile(a,60)\n",
        "high=np.percentile(a,90)\n",
        "print(low )\n",
        "print(medium)\n",
        "print(high)"
      ]
    },
    {
      "cell_type": "markdown",
      "metadata": {
        "id": "19St5OBLjqAU"
      },
      "source": [
        "# 23/06/2025"
      ]
    },
    {
      "cell_type": "code",
      "execution_count": null,
      "metadata": {
        "colab": {
          "base_uri": "https://localhost:8080/"
        },
        "id": "PjmWijbRUb3P",
        "outputId": "468f85ee-d320-4543-c663-7232524512bf"
      },
      "outputs": [
        {
          "name": "stdout",
          "output_type": "stream",
          "text": [
            "123\n",
            "3.0294318959616757\n",
            "1143\n",
            "[0.0 0.8 1.3 ... 0.0 0.0 0.0]\n",
            "[4.3 4.1 5.3 8.1 6.1 8.6 8.1 4.8 6.4 8.6 6.9 9.4 8.6 8.4 9.4 4.1 4.8 5.6\n",
            " 4.6 8.1 6.6 4.3 3.8 4.3 4.3 6.4 6.1 3.8 6.6 8.6 5.8 4.8 7.9 4.8 6.4 8.9\n",
            " 7.1 6.1 9.7 5.6 8.1 5.3 5.6 6.1 7.9 3.8 4.1 8.1 7.9 5.3 6.6 4.6 4.1 4.1\n",
            " 5.1 5.8 7.9 4.3 9.4 4.6 8.1 4.1 7.4 4.3 8.1 8.4 9.4 9.7 9.4 5.8 5.3 3.8\n",
            " 6.6 4.1 9.7 5.6 7.9 4.8 5.6 7.9 5.3 4.1 6.9 9.1 3.8 4.1 5.3 4.6 6.9 5.6\n",
            " 5.6 4.1 9.7 5.8 4.3 8.9 5.1 4.6 9.4 6.1 4.3 6.9 8.1 4.1 4.6 4.6 5.1 8.9\n",
            " 6.9 5.1 3.8 5.6 6.4 8.4 4.3 8.9 7.4 7.6 7.1 8.6 9.4 4.1 6.1 4.1 4.8 4.1\n",
            " 5.1 7.4 9.1 6.9 5.3 4.1 8.1 5.8 9.7 5.8 7.4 8.4 6.1 4.6 4.1 9.4 4.1 3.8\n",
            " 8.1 7.6 5.1 5.1 5.6 6.1 4.3 4.1 4.6 7.6 5.8 5.3 4.1 4.6 3.8 8.9 6.9 6.6\n",
            " 7.1 9.4 4.3 4.6 6.1 5.8 8.6]\n",
            "169\n",
            "[10.9 20.3 19.8 15.2 13.5 27.7 13.5 11.4 17.3 11.4 10.4 13.7 19.3 23.9\n",
            " 27.4 13.2 10.9 10.7 18.5 14.0 16.0 16.5 15.7 15.2 16.5 20.8 23.1 10.9\n",
            " 34.5 14.5 15.2 54.1 11.2 32.0 35.6 19.6 13.0 14.2 22.6 13.7 13.2 13.5\n",
            " 16.3 38.4 11.9 11.7 9.9 18.5 12.7 39.1 20.6 13.7 13.7 9.9 19.3 27.7 21.3\n",
            " 13.5 43.4 16.8 18.5 12.7 30.0 26.2 10.7 12.2 21.3 21.6 18.3 17.0 11.7\n",
            " 26.4 14.5 15.2 13.0 19.1 10.7 16.5 46.7 32.3 18.8 27.7 22.1 14.0 10.9\n",
            " 18.5 13.7 14.2 12.4 33.3 16.0 13.7 19.3 12.7 21.6 18.3 20.3 15.0 11.7\n",
            " 32.0 12.7 25.4 17.0 10.9 15.2 11.9 18.3 34.3 9.9 13.0 13.0 19.6 20.6 10.2\n",
            " 26.2 21.3 26.2 17.3 23.6 18.3 17.0 55.9 10.9 14.0 30.5 32.5 10.2 9.9 28.7\n",
            " 19.3 33.0 26.2 12.7 9.9 33.5 47.2 22.4 29.5 12.2 12.7 15.7 11.2 27.4 54.1\n",
            " 13.5 16.0 21.8 18.5 27.4]\n",
            "149\n",
            "177\n",
            "151\n",
            "151\n",
            "144\n",
            "623\n",
            "623\n",
            "8.696503817590528\n",
            "7.104333868378825\n",
            "3.0294318959616757\n",
            "207\n",
            "153\n",
            "119\n",
            "93\n",
            "51\n"
          ]
        }
      ],
      "source": [
        "import numpy as np\n",
        "from vega_datasets import data\n",
        "data1= np.array(\n",
        "data.seattle_weather())\n",
        "precipi=data1[:,1]\n",
        "year1=precipi[:365]\n",
        "#print(year1)\n",
        "print(len(precipi[precipi>12]))\n",
        "std=np.std(precipi)\n",
        "var=np.var(precipi)\n",
        "year2=precipi[365:730]\n",
        "year3=precipi[730:1095]\n",
        "year4=precipi[1095:]\n",
        "\n",
        "#high=np.precentile(a,90)\n",
        "# print(low )\n",
        "# print(medium)\n",
        "# print(high)\n",
        "# print(var)\n",
        "# print(std)\n",
        "mean=np.mean(precipi)\n",
        "print(mean)\n",
        "# ml=precipi[(precipi>3.7)&(precipi<9.7)]\n",
        "#print(ml)\n",
        "low=precipi[precipi<3.7]\n",
        "print(len(low))\n",
        "print(low)\n",
        "medium=precipi[(precipi>=3.7)&(precipi<=9.7)]\n",
        "print(medium)\n",
        "print(len(medium))\n",
        "high=precipi[precipi>9.7]\n",
        "print(high)\n",
        "print(len(high))\n",
        "y1=year1[(year1>0)]\n",
        "print(len(y1))\n",
        "y2=year2[(year2>0)]\n",
        "print(len(y2))\n",
        "y3=year3[(year3>0)]\n",
        "print(len(y3))\n",
        "y4=year4[(year4>0)]\n",
        "print(len(y4))\n",
        "sum=len(y1)+len(y2)+len(y3)+len(y4)\n",
        "print(sum)\n",
        "filter=precipi[precipi>0]\n",
        "#print(filter)\n",
        "print(len(filter))\n",
        "std_d=np.std(filter)\n",
        "print(std_d)\n",
        "print(np.mean(filter))\n",
        "print(np.mean(precipi))\n",
        "low=filter[filter<2]\n",
        "print(len(low))\n",
        "#print(low)\n",
        "slightly_low=filter[(filter >= 2) & (filter < 5)]\n",
        "print(len(slightly_low))\n",
        "#print(slightly_low)\n",
        "medium=filter[(filter >= 5) & (filter < 10)]\n",
        "#print(medium)\n",
        "print(len(medium))\n",
        "high=filter[(filter >= 10) & (filter < 20)]\n",
        "#print(high)\n",
        "print(len(high))\n",
        "heavy=filter[filter>=20]\n",
        "#print(heavy)\n",
        "print(len(heavy))"
      ]
    },
    {
      "cell_type": "markdown",
      "metadata": {
        "id": "YWJSUlbVmnlm"
      },
      "source": [
        "# 24/06/2025"
      ]
    },
    {
      "cell_type": "code",
      "execution_count": null,
      "metadata": {
        "colab": {
          "base_uri": "https://localhost:8080/"
        },
        "id": "N0WGpnrQmthD",
        "outputId": "f8a94ab0-8884-482b-9d22-38b913b870c1"
      },
      "outputs": [
        {
          "name": "stdout",
          "output_type": "stream",
          "text": [
            "[1 2 3 4 5]\n",
            "[1 0 3 2 4]\n",
            "[1 2 3 4 5]\n",
            "[1 2 3 4 5]\n",
            "[1 2 3 4 5 6 7]\n"
          ]
        }
      ],
      "source": [
        "import numpy as np\n",
        "a=np.array([2,1,4,3,5])\n",
        "print(np.sort(a))\n",
        "print(np.argsort(a))\n",
        "print(np.partition(a,4))\n",
        "print(np.partition(a,1))\n",
        "b=([7,3,2,1,6,5,4])\n",
        "print(np.partition(b,2))"
      ]
    },
    {
      "cell_type": "code",
      "execution_count": null,
      "metadata": {
        "colab": {
          "base_uri": "https://localhost:8080/"
        },
        "id": "R8nlnUK9qIgR",
        "outputId": "764d9691-c532-4a41-b851-cfc8c479203f"
      },
      "outputs": [
        {
          "name": "stdout",
          "output_type": "stream",
          "text": [
            "[[0 4 2 0 1 1]\n",
            " [0 6 5 3 4 8]\n",
            " [7 7 6 4 5 9]\n",
            " [8 7 7 7 5 9]]\n",
            "[[0 4 4 6 7 8]\n",
            " [0 0 2 5 6 9]\n",
            " [1 5 7 7 7 7]\n",
            " [1 3 4 5 8 9]]\n"
          ]
        }
      ],
      "source": [
        "import numpy as np\n",
        "rng=np.random.default_rng(seed=42)\n",
        "a=rng.integers(0,10,(4,6))\n",
        "#print(a)\n",
        "#print(np.sort(a,axis=1)) #0 shows sorting in column and 1 shows sorting in rows\n",
        "print(np.partition(a,2,axis=0))\n",
        "print(np.partition(a,2,axis=1))"
      ]
    },
    {
      "cell_type": "code",
      "source": [
        "import numpy as np\n",
        "import matplotlib.pyplot as plt\n",
        "\n",
        "# Generate random 2D points\n",
        "rng = np.random.default_rng(seed=42)\n",
        "X = rng.random((10, 2))  # Shape: (10, 2)\n",
        "print(X[9])\n",
        "# Optional: plot the points\n",
        "plt.scatter(X[:, 0], X[:, 1], s=100)\n",
        "\n",
        "a1=X[np.newaxis,:]\n",
        "a2=X[:,np.newaxis]\n",
        "# print(np.shape(a1))\n",
        "# print(np.shape(a2))\n",
        "# print(a1)\n",
        "# print(a2)\n",
        "diff=a2-a1\n",
        "# print(\"diffrence of a2-a1\",diff)\n",
        "print(np.shape(diff))\n",
        "square=diff**2\n",
        "#print(\"squre\",square)\n",
        "sum= square.sum(-1)\n",
        "print(\"Diffrence between points sum\")\n",
        "#print(sum)\n",
        "argument= np.argsort(sum,1)\n",
        "print(\"argument\")\n",
        "#print(argument)\n",
        "nearest_partition=np.argpartition(sum,3,axis=1)\n",
        "print(\"partition\")\n",
        "#print(b)\n",
        "\n",
        "plt.scatter(X[:, 0], X[:, 1], s=100)\n",
        " # draw lines from each point to its two nearest neighbors\n",
        "K = 2\n",
        "for i in range(X.shape[0]):\n",
        " for j in nearest_partition[i, :K+1]:\n",
        "  # plot a line from X[i] to X[j]\n",
        "  # use some zip magic to make it happen:\n",
        "  plt.plot(*zip(X[j], X[i]),color='black')"
      ],
      "metadata": {
        "colab": {
          "base_uri": "https://localhost:8080/",
          "height": 517
        },
        "id": "hPXjYfibixcW",
        "outputId": "cf052f39-0f49-429d-8bd1-c2e7c66a25dc"
      },
      "execution_count": null,
      "outputs": [
        {
          "output_type": "stream",
          "name": "stdout",
          "text": [
            "[0.82763117 0.6316644 ]\n",
            "(10, 10, 2)\n",
            "Diffrence between points sum\n",
            "argument\n",
            "partition\n"
          ]
        },
        {
          "output_type": "display_data",
          "data": {
            "text/plain": [
              "<Figure size 640x480 with 1 Axes>"
            ],
            "image/png": "[encoded data removed]"
          },
          "metadata": {}
        }
      ]
    },
    {
      "cell_type": "markdown",
      "source": [
        "# **26/06/2025**"
      ],
      "metadata": {
        "id": "R5DV8rZ8jjGv"
      }
    }
  ],
  "metadata": {
    "colab": {
      "provenance": [],
      "authorship_tag": "ABX9TyNPCDx47cfabN9QbOsiGzkM",
      "include_colab_link": true
    },
    "kernelspec": {
      "display_name": "Python 3",
      "name": "python3"
    },
    "language_info": {
      "name": "python"
    }
  },
  "nbformat": 4,
  "nbformat_minor": 0
}